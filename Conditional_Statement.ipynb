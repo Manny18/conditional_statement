{
 "cells": [
  {
   "cell_type": "code",
   "execution_count": 3,
   "id": "eef37866",
   "metadata": {},
   "outputs": [
    {
     "name": "stdout",
     "output_type": "stream",
     "text": [
      "Enter the number 63\n",
      "the number is divisible by 7\n"
     ]
    }
   ],
   "source": [
    "#1.Write a program to check a number is divisible by 7 or not\n",
    "x=int(input(\"Enter the number \"))\n",
    "if x%7==0:\n",
    "    print(\"the number is divisible by 7\")\n",
    "else:\n",
    "    print(\"NOT\")"
   ]
  },
  {
   "cell_type": "code",
   "execution_count": 4,
   "id": "80ac10d5",
   "metadata": {},
   "outputs": [
    {
     "name": "stdout",
     "output_type": "stream",
     "text": [
      "Enter the number 35\n",
      "Hello\n"
     ]
    }
   ],
   "source": [
    "#2.Write a program to display “Hello” if a number entered by the user is multiple of 5 otherwise print “Bye”.\n",
    "x=int(input(\"Enter the number \"))\n",
    "if x%5==0:\n",
    "    print(\"Hello\")\n",
    "else:\n",
    "    print(\"Bye\")"
   ]
  },
  {
   "cell_type": "code",
   "execution_count": 5,
   "id": "1e09afb8",
   "metadata": {},
   "outputs": [
    {
     "name": "stdout",
     "output_type": "stream",
     "text": [
      "5\n"
     ]
    }
   ],
   "source": [
    "#3.Write a program to print last digits of a number.\n",
    "num=12345\n",
    "last_digit=int(str(num)[-1])\n",
    "print(last_digit)\n"
   ]
  },
  {
   "cell_type": "code",
   "execution_count": 8,
   "id": "3d6e56c5",
   "metadata": {},
   "outputs": [
    {
     "name": "stdout",
     "output_type": "stream",
     "text": [
      "Enter the number -90\n",
      "The number is negative -90\n"
     ]
    }
   ],
   "source": [
    "#4.Write a python program to check a number(accept from user) positive or negative.\n",
    "x=int(input(\"Enter the number \"))\n",
    "if x>0:\n",
    "    print(\"The number is positive\",x)\n",
    "elif x==0:\n",
    "    print(\"Nothing\",x)\n",
    "else:\n",
    "    print(\"The number is negative\",x)\n",
    "    "
   ]
  },
  {
   "cell_type": "code",
   "execution_count": 12,
   "id": "466ab911",
   "metadata": {},
   "outputs": [
    {
     "name": "stdout",
     "output_type": "stream",
     "text": [
      "Enter the number 6\n",
      "The number is divisible by both 2 and 3\n"
     ]
    }
   ],
   "source": [
    "#5.Write a python program to check a number(accept from user) divisible by 2 and 3.\n",
    "x=int(input(\"Enter the number \"))\n",
    "if x%2==0 and x%3==0:\n",
    "    print(\"The number is divisible by both 2 and 3\")\n",
    "else:\n",
    "    print(\"Not\")"
   ]
  },
  {
   "cell_type": "code",
   "execution_count": 15,
   "id": "3a007fdb",
   "metadata": {},
   "outputs": [
    {
     "name": "stdout",
     "output_type": "stream",
     "text": [
      "1\n",
      "2\n",
      "3\n",
      "4\n",
      "5\n",
      "6\n",
      "7\n",
      "8\n",
      "9\n",
      "10\n"
     ]
    }
   ],
   "source": [
    "#6.Print First 10 natural numbers using while loop.\n",
    "i=1\n",
    "while i<=10:\n",
    "    print(i)\n",
    "    i=i+1"
   ]
  },
  {
   "cell_type": "code",
   "execution_count": 16,
   "id": "90527b8d",
   "metadata": {},
   "outputs": [
    {
     "name": "stdout",
     "output_type": "stream",
     "text": [
      "Enter the number 4\n",
      "4 * 1 = 4\n",
      "4 * 2 = 8\n",
      "4 * 3 = 12\n",
      "4 * 4 = 16\n",
      "4 * 5 = 20\n",
      "4 * 6 = 24\n",
      "4 * 7 = 28\n",
      "4 * 8 = 32\n",
      "4 * 9 = 36\n",
      "4 * 10 = 40\n"
     ]
    }
   ],
   "source": [
    "#7.Write a program to print multiplication table of a given number.\n",
    "i=1\n",
    "x=int(input(\"Enter the number \"))\n",
    "while i<=10:\n",
    "    print(x,\"*\",i,\"=\",x*i)\n",
    "    i=i+1\n"
   ]
  },
  {
   "cell_type": "code",
   "execution_count": 17,
   "id": "3906c44d",
   "metadata": {},
   "outputs": [
    {
     "name": "stdout",
     "output_type": "stream",
     "text": [
      "-10\n",
      "-9\n",
      "-8\n",
      "-7\n",
      "-6\n",
      "-5\n",
      "-4\n",
      "-3\n",
      "-2\n",
      "-1\n"
     ]
    }
   ],
   "source": [
    "#8.Display numbers from -10 to -1 using for loop.\n",
    "i=-10\n",
    "while i<=-1:\n",
    "    print(i)\n",
    "    i=i+1"
   ]
  },
  {
   "cell_type": "code",
   "execution_count": 18,
   "id": "9c3b5d75",
   "metadata": {},
   "outputs": [
    {
     "name": "stdout",
     "output_type": "stream",
     "text": [
      "Enter the number 12345\n",
      "reverse num is 54321\n"
     ]
    }
   ],
   "source": [
    "#9.Reverse a given integer number.\n",
    "x=int(input(\"Enter the number \"))\n",
    "rev=0\n",
    "rnum=0\n",
    "while (x!=0):\n",
    "    rev=x%10\n",
    "    rnum=rnum*10+rev\n",
    "    x=x//10\n",
    "print(\"reverse num is\", rnum)"
   ]
  },
  {
   "cell_type": "code",
   "execution_count": 22,
   "id": "a33db394",
   "metadata": {},
   "outputs": [
    {
     "name": "stdout",
     "output_type": "stream",
     "text": [
      "List before reverse :  [1, 2, 3, 4, 5]\n",
      "List after reverse :  [5, 4, 3, 2, 1]\n"
     ]
    }
   ],
   "source": [
    "#10.Print list in reverse order using a loop.\n",
    "x = [1, 2, 3, 4, 5]\n",
    "print(\"List before reverse : \",x)\n",
    "y = []\n",
    "for reversed_list in x:\n",
    "  y = [reversed_list] + y\n",
    "print(\"List after reverse : \", y)"
   ]
  }
 ],
 "metadata": {
  "kernelspec": {
   "display_name": "Python 3 (ipykernel)",
   "language": "python",
   "name": "python3"
  },
  "language_info": {
   "codemirror_mode": {
    "name": "ipython",
    "version": 3
   },
   "file_extension": ".py",
   "mimetype": "text/x-python",
   "name": "python",
   "nbconvert_exporter": "python",
   "pygments_lexer": "ipython3",
   "version": "3.9.12"
  }
 },
 "nbformat": 4,
 "nbformat_minor": 5
}
